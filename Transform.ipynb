{
 "cells": [
  {
   "cell_type": "code",
   "execution_count": 1,
   "metadata": {},
   "outputs": [],
   "source": [
    "import pandas as pd\n",
    "# import mysql.connector as mycon\n",
    "import kagglehub\n",
    "from kagglehub import KaggleDatasetAdapter"
   ]
  },
  {
   "cell_type": "markdown",
   "metadata": {},
   "source": [
    "# This pulls in the wildfire data and reads it"
   ]
  },
  {
   "cell_type": "code",
   "execution_count": 2,
   "metadata": {},
   "outputs": [
    {
     "name": "stdout",
     "output_type": "stream",
     "text": [
      "Warning: Looks like you're using an outdated `kagglehub` version (installed: 0.3.7), please consider upgrading to the latest version (0.3.8).\n"
     ]
    },
    {
     "name": "stderr",
     "output_type": "stream",
     "text": [
      "c:\\Users\\Taylor\\AppData\\Local\\Programs\\Python\\Python313\\Lib\\site-packages\\kagglehub\\pandas_datasets.py:91: DtypeWarning: Columns (14,38) have mixed types. Specify dtype option on import or set low_memory=False.\n",
      "  result = read_function(\n"
     ]
    }
   ],
   "source": [
    "use_cols = ['OBJECTID', 'FIRE_NAME', 'DISCOVERY_DATE', 'NWCG_GENERAL_CAUSE', 'FIRE_SIZE', 'STATE', 'FIPS_NAME']\n",
    "\n",
    "# Download latest version\n",
    "wildfire_df = kagglehub.load_dataset(handle = \"behroozsohrabi/us-wildfire-records-6th-edition\", path = \"data.csv\", \n",
    "                                   adapter = KaggleDatasetAdapter.PANDAS, \n",
    "                                   pandas_kwargs={\"usecols\": use_cols, \"compression\": \"zip\"})"
   ]
  },
  {
   "cell_type": "code",
   "execution_count": 3,
   "metadata": {},
   "outputs": [],
   "source": [
    "# Convert DISCOVERY_DATE to datetime object to remove records prior to year 2000\n",
    "\n",
    "wildfire_df['DISCOVERY_DATE'] = pd.to_datetime(wildfire_df['DISCOVERY_DATE'], format = ('%m/%d/%Y'))\n",
    "\n",
    "wildfire_df = wildfire_df[wildfire_df['DISCOVERY_DATE'].dt.year > 2000]"
   ]
  },
  {
   "cell_type": "code",
   "execution_count": 4,
   "metadata": {},
   "outputs": [],
   "source": [
    "# Rename some columns for clarity\n",
    "\n",
    "wildfire_df = wildfire_df.rename(columns = {\"NWCG_GENERAL_CAUSE\": \"SPECIFIC_CAUSE\", \"FIPS_NAME\": \"COUNTY\"})"
   ]
  },
  {
   "cell_type": "code",
   "execution_count": 5,
   "metadata": {},
   "outputs": [],
   "source": [
    "# Filter states that we're keeping\n",
    "\n",
    "states_to_keep = ['CA', 'TX', 'GA', 'FL', 'AZ']\n",
    "\n",
    "wildfire_df.loc[~wildfire_df['STATE'].isin(states_to_keep), :] = None\n",
    "\n",
    "wildfire_df.dropna(inplace = True)"
   ]
  },
  {
   "cell_type": "code",
   "execution_count": 6,
   "metadata": {},
   "outputs": [],
   "source": [
    "# Change to int for compatiabilty with Primary Key\n",
    "\n",
    "wildfire_df['OBJECTID'] = wildfire_df['OBJECTID'].astype(int)"
   ]
  },
  {
   "cell_type": "markdown",
   "metadata": {},
   "source": [
    "# This pulls in housing data"
   ]
  },
  {
   "cell_type": "code",
   "execution_count": 7,
   "metadata": {},
   "outputs": [],
   "source": [
    "bottom_tier_housing = pd.read_parquet('data/bottom_housing.parquet')\n",
    "top_tier_housing = pd.read_parquet('data/top_housing.parquet')"
   ]
  },
  {
   "cell_type": "markdown",
   "metadata": {},
   "source": [
    "## Remove Columns we don't use"
   ]
  },
  {
   "cell_type": "code",
   "execution_count": 8,
   "metadata": {},
   "outputs": [],
   "source": [
    "remove_cols = ['RegionID', 'RegionType', 'StateName', 'Metro', 'SizeRank']\n",
    "\n",
    "bottom_tier_housing.drop(columns = remove_cols, inplace = True)\n",
    "top_tier_housing.drop(columns = remove_cols, inplace = True)"
   ]
  },
  {
   "cell_type": "markdown",
   "metadata": {},
   "source": [
    "## Remove rows with states we aren't using in a way that modifies the original dataframe in-place"
   ]
  },
  {
   "cell_type": "code",
   "execution_count": 9,
   "metadata": {},
   "outputs": [],
   "source": [
    "states = ['CA', 'TX', 'GA', 'FL', 'AZ']\n",
    "\n",
    "bottom_tier_housing.loc[~bottom_tier_housing['State'].isin(states), :] = None\n",
    "top_tier_housing.loc[~top_tier_housing['State'].isin(states), :] = None\n",
    "\n",
    "bottom_tier_housing.dropna(inplace = True)\n",
    "top_tier_housing.dropna(inplace = True)\n"
   ]
  },
  {
   "cell_type": "markdown",
   "metadata": {},
   "source": [
    "## Combine the data frames and pivot long the dates and prices"
   ]
  },
  {
   "cell_type": "code",
   "execution_count": 10,
   "metadata": {},
   "outputs": [],
   "source": [
    "housing_df = pd.concat([bottom_tier_housing, top_tier_housing], axis = 0, ignore_index = True)"
   ]
  },
  {
   "cell_type": "code",
   "execution_count": 11,
   "metadata": {},
   "outputs": [],
   "source": [
    "housing_df = housing_df.melt(id_vars = ['RegionName', 'State', 'CountyName'], var_name = 'Date', value_name = 'Price')\n",
    "housing_df['Date'] = pd.to_datetime(housing_df['Date']).dt.date"
   ]
  },
  {
   "cell_type": "markdown",
   "metadata": {},
   "source": [
    "# Rent Data (load and remove columns'state values)"
   ]
  },
  {
   "cell_type": "code",
   "execution_count": 12,
   "metadata": {},
   "outputs": [],
   "source": [
    "rent_index = pd.read_csv(\"data/Observed Rent Index by City.csv\")"
   ]
  },
  {
   "cell_type": "code",
   "execution_count": 13,
   "metadata": {},
   "outputs": [],
   "source": [
    "# Columns and state values to remove are same as housing sales data\n",
    "\n",
    "rent_index.drop(columns = remove_cols, inplace = True)\n",
    "rent_index.loc[~rent_index['State'].isin(states), :] = None\n",
    "\n",
    "rent_index.dropna(inplace = True)"
   ]
  },
  {
   "cell_type": "markdown",
   "metadata": {},
   "source": [
    "## Pivot long the date and price data"
   ]
  },
  {
   "cell_type": "code",
   "execution_count": 14,
   "metadata": {},
   "outputs": [],
   "source": [
    "rent_index = rent_index.melt(id_vars = ['RegionName', 'State', 'CountyName'], var_name = 'Date', value_name = 'Price')\n",
    "rent_index['Date'] = pd.to_datetime(housing_df['Date']).dt.date"
   ]
  },
  {
   "cell_type": "markdown",
   "metadata": {},
   "source": [
    "# Create Location Table"
   ]
  },
  {
   "cell_type": "markdown",
   "metadata": {},
   "source": [
    "## Pull in location info from Census"
   ]
  },
  {
   "cell_type": "code",
   "execution_count": 15,
   "metadata": {},
   "outputs": [],
   "source": [
    "ca_codes = pd.read_csv('https://www2.census.gov/geo/docs/reference/codes2020/place_by_cou/st06_ca_place_by_county2020.txt', delimiter = '|')\n",
    "tx_codes = pd.read_csv('https://www2.census.gov/geo/docs/reference/codes2020/place_by_cou/st48_tx_place_by_county2020.txt', delimiter = '|')\n",
    "ga_codes = pd.read_csv('https://www2.census.gov/geo/docs/reference/codes2020/place_by_cou/st13_ga_place_by_county2020.txt', delimiter = '|')\n",
    "fl_codes = pd.read_csv('https://www2.census.gov/geo/docs/reference/codes2020/place_by_cou/st12_fl_place_by_county2020.txt', delimiter = '|')\n",
    "az_codes = pd.read_csv('https://www2.census.gov/geo/docs/reference/codes2020/place_by_cou/st04_az_place_by_county2020.txt', delimiter = '|')"
   ]
  },
  {
   "cell_type": "markdown",
   "metadata": {},
   "source": [
    "## Drop Columns"
   ]
  },
  {
   "cell_type": "code",
   "execution_count": 16,
   "metadata": {},
   "outputs": [],
   "source": [
    "columns_to_drop = ['PLACENS', 'TYPE', 'CLASSFP', 'FUNCSTAT']\n",
    "\n",
    "ca_codes.drop(columns = columns_to_drop, inplace = True)\n",
    "tx_codes.drop(columns = columns_to_drop, inplace = True)\n",
    "ga_codes.drop(columns = columns_to_drop, inplace = True)\n",
    "fl_codes.drop(columns = columns_to_drop, inplace = True)\n",
    "az_codes.drop(columns = columns_to_drop, inplace = True)"
   ]
  },
  {
   "cell_type": "code",
   "execution_count": 17,
   "metadata": {},
   "outputs": [],
   "source": [
    "# Combine df to make it easier to load\n",
    "\n",
    "combined_df = pd.concat([ca_codes, tx_codes, ga_codes, fl_codes, az_codes], axis = 0, ignore_index=True)"
   ]
  },
  {
   "cell_type": "markdown",
   "metadata": {},
   "source": [
    "# Load Population Data into dictionary"
   ]
  },
  {
   "cell_type": "code",
   "execution_count": 18,
   "metadata": {},
   "outputs": [],
   "source": [
    "state_population_dict = {}\n",
    "\n",
    "states = ['CA', 'TX', 'GA', 'FL', 'AZ']\n",
    "\n",
    "for state in states:\n",
    "    state_population_dict[state] = pd.read_csv(f\"data/{state} City population estimates.csv\")"
   ]
  },
  {
   "cell_type": "markdown",
   "metadata": {},
   "source": [
    "# Sync population and location data"
   ]
  },
  {
   "cell_type": "code",
   "execution_count": 19,
   "metadata": {},
   "outputs": [],
   "source": [
    "location_dict = {\n",
    "    'CA': ca_codes,\n",
    "    'TX': tx_codes,\n",
    "    'GA': ga_codes,\n",
    "    'FL': fl_codes,\n",
    "    'AZ': az_codes\n",
    "}"
   ]
  },
  {
   "cell_type": "code",
   "execution_count": 20,
   "metadata": {},
   "outputs": [],
   "source": [
    "def sync(states_list):\n",
    "    for state in states_list:\n",
    "        pop_df = state_population_dict[state]\n",
    "        location_df = location_dict[state]\n",
    "\n",
    "        columns_to_rename = {'PLACE': 'PLACEFP', 'NAME': 'PLACENAME'}\n",
    "\n",
    "        pop_df = pop_df.rename(columns = columns_to_rename)\n",
    "\n",
    "        merged_df = pop_df.merge(\n",
    "            location_df[['COUNTYFP', 'COUNTYNAME', 'PLACEFP', 'PLACENAME']],\n",
    "            on = [\"PLACEFP\", 'PLACENAME'],\n",
    "            how = 'left'\n",
    "        )\n",
    "        merged_df.drop(columns = ['SUMLEV', 'COUSUB', 'CONCIT', 'PRIMGEO_FLAG', 'FUNCSTAT', 'ESTIMATESBASE2010', 'COUNTY'], inplace = True)\n",
    "        merged_df = merged_df.drop_duplicates()\n",
    "        merged_df = merged_df.dropna()\n",
    "        merged_df['COUNTYFP'] = merged_df['COUNTYFP'].astype(int)\n",
    "        state_population_dict[state] = merged_df"
   ]
  },
  {
   "cell_type": "code",
   "execution_count": 21,
   "metadata": {},
   "outputs": [],
   "source": [
    "sync(states)"
   ]
  },
  {
   "cell_type": "markdown",
   "metadata": {},
   "source": [
    "# Map state and county codes to wildfire/housing/rent data"
   ]
  },
  {
   "cell_type": "code",
   "execution_count": 22,
   "metadata": {},
   "outputs": [],
   "source": [
    "# Mapping only for CA, TX, FL, GA, and AZ\n",
    "\n",
    "state_fips_mapping = {\n",
    "    \"CA\": 6,  # California\n",
    "    \"TX\": 48, # Texas\n",
    "    \"FL\": 12, # Florida\n",
    "    \"GA\": 13, # Georgia\n",
    "    \"AZ\": 4   # Arizona\n",
    "}\n",
    "\n",
    "wildfire_df['state_id'] = wildfire_df['STATE'].map(state_fips_mapping)\n",
    "housing_df['state_id'] = housing_df['State'].map(state_fips_mapping)\n",
    "rent_index['state_id'] = rent_index['State'].map(state_fips_mapping)"
   ]
  },
  {
   "cell_type": "code",
   "execution_count": 28,
   "metadata": {},
   "outputs": [],
   "source": [
    "# Realign column names to prepare for county code mapping\n",
    "\n",
    "combined_df.rename(columns = {'COUNTYNAME': 'county_name', 'COUNTYFP': 'county_id', 'STATEFP': 'state_id'}, inplace = True)\n",
    "rent_index.rename(columns = {'CountyName': 'county_name'}, inplace = True)\n",
    "housing_df.rename(columns = {'CountyName': 'county_name'}, inplace = True)\n",
    "wildfire_df.rename(columns = {'COUNTY': 'county_name'}, inplace = True)"
   ]
  },
  {
   "cell_type": "code",
   "execution_count": 24,
   "metadata": {},
   "outputs": [],
   "source": [
    "import pandas as pd\n",
    "from thefuzz import fuzz, process  # Fuzzy matching\n",
    "\n",
    "def match_county_id(data_df, counties_df, state_col=\"state_id\", county_col=\"county_name\", threshold=85):\n",
    "    \"\"\"\n",
    "    Matches county names in the dataset to official counties using fuzzy matching.\n",
    "\n",
    "    Parameters:\n",
    "    - data_df (pd.DataFrame): DataFrame containing records that need county_id assignment.\n",
    "    - counties_df (pd.DataFrame): Official Census counties with state_id, county_name, and county_id.\n",
    "    - state_col (str): Column name for state_id.\n",
    "    - county_col (str): Column name for county_name.\n",
    "    - threshold (int): Minimum similarity score to consider a match.\n",
    "\n",
    "    Returns:\n",
    "    - pd.DataFrame: Updated DataFrame with county_id assigned.\n",
    "    \"\"\"\n",
    "\n",
    "    # Create a dictionary of county names for each state\n",
    "    county_lookup = {}\n",
    "    for state_id in counties_df[state_col].unique():\n",
    "        state_counties = counties_df[counties_df[state_col] == state_id][[\"county_name\", \"county_id\"]]\n",
    "        county_lookup[state_id] = state_counties.set_index(\"county_name\")[\"county_id\"].to_dict()\n",
    "\n",
    "    # Function to find the best fuzzy match\n",
    "    def find_best_match(state_id, county_name):\n",
    "        if state_id in county_lookup:\n",
    "            choices = list(county_lookup[state_id].keys())  # List of county names for the state\n",
    "            match, score = process.extractOne(county_name, choices, scorer=fuzz.token_sort_ratio)\n",
    "            if score >= threshold:\n",
    "                return county_lookup[state_id][match]  # Return matched county_id\n",
    "        return None  # No match found\n",
    "\n",
    "    # Apply fuzzy matching to each row\n",
    "    data_df[\"county_id\"] = data_df.apply(lambda row: find_best_match(row[state_col], row[county_col]), axis=1)\n",
    "\n",
    "    return data_df\n"
   ]
  },
  {
   "cell_type": "code",
   "execution_count": null,
   "metadata": {},
   "outputs": [
    {
     "ename": "NameError",
     "evalue": "name 'state_population' is not defined",
     "output_type": "error",
     "traceback": [
      "\u001b[1;31m---------------------------------------------------------------------------\u001b[0m",
      "\u001b[1;31mNameError\u001b[0m                                 Traceback (most recent call last)",
      "Cell \u001b[1;32mIn[29], line 4\u001b[0m\n\u001b[0;32m      2\u001b[0m housing_df \u001b[38;5;241m=\u001b[39m match_county_id(housing_df, combined_df)\n\u001b[0;32m      3\u001b[0m wildfire_df \u001b[38;5;241m=\u001b[39m match_county_id(wildfire_df, combined_df)\n\u001b[1;32m----> 4\u001b[0m population_df \u001b[38;5;241m=\u001b[39m pd\u001b[38;5;241m.\u001b[39mconcat(\u001b[43mstate_population\u001b[49m\u001b[38;5;241m.\u001b[39mdict\u001b[38;5;241m.\u001b[39mvalues(), ignore_index \u001b[38;5;241m=\u001b[39m \u001b[38;5;28;01mTrue\u001b[39;00m)\n",
      "\u001b[1;31mNameError\u001b[0m: name 'state_population' is not defined"
     ]
    }
   ],
   "source": [
    "rent_index = match_county_id(rent_index, combined_df)\n",
    "housing_df = match_county_id(housing_df, combined_df)\n",
    "wildfire_df = match_county_id(wildfire_df, combined_df)\n",
    "population_df = pd.concat(state_population_dict.values(), ignore_index = True)"
   ]
  },
  {
   "cell_type": "code",
   "execution_count": 76,
   "metadata": {},
   "outputs": [
    {
     "data": {
      "text/plain": [
       "Index(['OBJECTID', 'FIRE_NAME', 'DISCOVERY_DATE', 'SPECIFIC_CAUSE',\n",
       "       'FIRE_SIZE', 'STATE', 'county_name', 'state_id', 'county_id'],\n",
       "      dtype='object')"
      ]
     },
     "execution_count": 76,
     "metadata": {},
     "output_type": "execute_result"
    }
   ],
   "source": [
    "wildfire_df.columns"
   ]
  },
  {
   "cell_type": "code",
   "execution_count": 77,
   "metadata": {},
   "outputs": [],
   "source": [
    "# Take care of missing values in wildfire dataframe, fill in variables accordingly\n",
    "\n",
    "def fill_missing_values(df):\n",
    "    \"\"\"\n",
    "    Fill missing values based on the state column.\n",
    "    \"\"\"\n",
    "    df.loc[df['STATE'] == 'FL', 'county_id'] = df.loc[df['STATE'] == 'FL', 'county_id'].fillna(86)\n",
    "    df.loc[df['STATE'] == 'GA', 'county_id'] = df.loc[df['STATE'] == 'GA', 'county_id'].fillna(29)\n",
    "    return df\n",
    "\n",
    "wildfire_df = fill_missing_values(wildfire_df)\n"
   ]
  },
  {
   "cell_type": "code",
   "execution_count": null,
   "metadata": {},
   "outputs": [],
   "source": [
    "# Final dataframes\n",
    "\n",
    "rent_index\n",
    "housing_df\n",
    "wildfire_df\n",
    "combined_df"
   ]
  }
 ],
 "metadata": {
  "kernelspec": {
   "display_name": "Python 3",
   "language": "python",
   "name": "python3"
  },
  "language_info": {
   "codemirror_mode": {
    "name": "ipython",
    "version": 3
   },
   "file_extension": ".py",
   "mimetype": "text/x-python",
   "name": "python",
   "nbconvert_exporter": "python",
   "pygments_lexer": "ipython3",
   "version": "3.13.1"
  }
 },
 "nbformat": 4,
 "nbformat_minor": 2
}
