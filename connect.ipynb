{
 "cells": [
  {
   "cell_type": "code",
   "execution_count": 4,
   "metadata": {},
   "outputs": [],
   "source": [
    "import mysql.connector as mysql\n",
    "from mysql.connector import Error\n",
    "import os\n",
    "from dotenv import load_dotenv"
   ]
  },
  {
   "cell_type": "markdown",
   "metadata": {},
   "source": [
    "# Script to connect"
   ]
  },
  {
   "cell_type": "code",
   "execution_count": 6,
   "metadata": {},
   "outputs": [
    {
     "name": "stdout",
     "output_type": "stream",
     "text": [
      "✅ Successfully connected to MySQL database\n"
     ]
    }
   ],
   "source": [
    "# Database credentials (replace with your details)\n",
    "load_dotenv()\n",
    "\n",
    "hostname=os.getenv('hostname')\n",
    "port=3306\n",
    "username='tkirk'\n",
    "password=os.getenv('password')\n",
    "ssl_ca = os.getenv('ssl_cert')  # Required for Azure MySQL SSL connection\n",
    "database = 'wildfire_housing'\n",
    "\n",
    "try:\n",
    "    # Establish connection\n",
    "    conn = mysql.connect(\n",
    "        host=hostname,\n",
    "        user=username,\n",
    "        password=password,\n",
    "        ssl_ca=ssl_ca,  # Secure connection\n",
    "        database = database\n",
    "    )\n",
    "\n",
    "    if conn.is_connected():\n",
    "        print(\"✅ Successfully connected to MySQL database\")\n",
    "\n",
    "except Error as e:\n",
    "    print(f\"❌ Error: {e}\")\n",
    "\n"
   ]
  },
  {
   "cell_type": "markdown",
   "metadata": {},
   "source": [
    "# Script to create schema"
   ]
  },
  {
   "cell_type": "code",
   "execution_count": 14,
   "metadata": {},
   "outputs": [
    {
     "name": "stdout",
     "output_type": "stream",
     "text": [
      "Database create or already exists\n",
      "Database schema created successfully\n"
     ]
    }
   ],
   "source": [
    "cursor = conn.cursor()\n",
    "\n",
    "try:\n",
    "    cursor.execute('CREATE DATABASE IF NOT EXISTS wildfire_housing')\n",
    "    print('Database create or already exists')\n",
    "\n",
    "except mysql.Error as err:\n",
    "    print(f\"Error creating database\")\n",
    "\n",
    "conn.database = database\n",
    "    \n",
    "with open('schema.sql', 'r') as schema:\n",
    "    sql_script = schema.read()\n",
    "\n",
    "try:\n",
    "\n",
    "    for statement in sql_script.split(\";\\n\"):\n",
    "        statement = statement.strip()\n",
    "        if statement:\n",
    "            cursor.execute(statement)\n",
    "except mysql.Error as err:\n",
    "    print(f\"Error executing statement: {statement}\")\n",
    "    print(f\"MySQL Error: {err}\")\n",
    "\n",
    "conn.commit()\n",
    "cursor.close()\n",
    "conn.close()\n",
    "\n",
    "print('Database schema created successfully')\n"
   ]
  }
 ],
 "metadata": {
  "kernelspec": {
   "display_name": "Python 3",
   "language": "python",
   "name": "python3"
  },
  "language_info": {
   "codemirror_mode": {
    "name": "ipython",
    "version": 3
   },
   "file_extension": ".py",
   "mimetype": "text/x-python",
   "name": "python",
   "nbconvert_exporter": "python",
   "pygments_lexer": "ipython3",
   "version": "3.13.1"
  }
 },
 "nbformat": 4,
 "nbformat_minor": 2
}
