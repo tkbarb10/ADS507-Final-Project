{
 "cells": [
  {
   "cell_type": "code",
   "execution_count": 2,
   "metadata": {},
   "outputs": [],
   "source": [
    "import mysql.connector as mysql\n",
    "from mysql.connector import Error\n",
    "import os\n",
    "from dotenv import load_dotenv"
   ]
  },
  {
   "cell_type": "markdown",
   "metadata": {},
   "source": [
    "# Script to connect"
   ]
  },
  {
   "cell_type": "code",
   "execution_count": 3,
   "metadata": {},
   "outputs": [
    {
     "name": "stdout",
     "output_type": "stream",
     "text": [
      "✅ Successfully connected to MySQL database\n"
     ]
    }
   ],
   "source": [
    "# Database credentials (replace with your details)\n",
    "load_dotenv()\n",
    "\n",
    "hostname=os.getenv('hostname')\n",
    "port=3306\n",
    "username='tkirk'\n",
    "password=os.getenv('password')\n",
    "ssl_ca = os.getenv('ssl_cert')  # Required for Azure MySQL SSL connection\n",
    "database = 'wildfire_housing'\n",
    "\n",
    "try:\n",
    "    # Establish connection\n",
    "    conn = mysql.connect(\n",
    "        host=hostname,\n",
    "        user=username,\n",
    "        password=password,\n",
    "        ssl_ca=ssl_ca,  # Secure connection\n",
    "        database = database\n",
    "    )\n",
    "\n",
    "    if conn.is_connected():\n",
    "        print(\"✅ Successfully connected to MySQL database\")\n",
    "\n",
    "except Error as e:\n",
    "    print(f\"❌ Error: {e}\")\n",
    "\n"
   ]
  },
  {
   "cell_type": "markdown",
   "metadata": {},
   "source": [
    "# Sample Query"
   ]
  },
  {
   "cell_type": "code",
   "execution_count": null,
   "metadata": {},
   "outputs": [
    {
     "name": "stderr",
     "output_type": "stream",
     "text": [
      "C:\\Users\\Taylor\\AppData\\Local\\Temp\\ipykernel_15460\\3279630705.py:16: UserWarning: pandas only supports SQLAlchemy connectable (engine/connection) or database string URI or sqlite3 DBAPI2 connection. Other DBAPI2 objects are not tested. Please consider using SQLAlchemy.\n",
      "  df = pd.read_sql(query, conn)\n"
     ]
    }
   ],
   "source": [
    "#cursor = conn.cursor()\n",
    "\n",
    "query =\"\"\"\n",
    "SELECT h.county_name, \n",
    "    YEAR(h.assessment_date) AS Year, \n",
    "    COUNT(w.fire_id) AS count,\n",
    "    SUM(w.fire_size) AS total_burned\n",
    "FROM housing h\n",
    "INNER JOIN wildfire w ON h.county_id = w.county_id AND YEAR(w.discovery_date) = YEAR(h.assessment_date)\n",
    "WHERE YEAR(h.assessment_date) = 2015\n",
    "GROUP BY h.county_name, YEAR(h.assessment_date)\n",
    "LIMIT 100;\n",
    "\"\"\"\n",
    "\n",
    "df = pd.read_sql(query, conn)"
   ]
  },
  {
   "cell_type": "code",
   "execution_count": 13,
   "metadata": {},
   "outputs": [
    {
     "data": {
      "text/html": [
       "<div>\n",
       "<style scoped>\n",
       "    .dataframe tbody tr th:only-of-type {\n",
       "        vertical-align: middle;\n",
       "    }\n",
       "\n",
       "    .dataframe tbody tr th {\n",
       "        vertical-align: top;\n",
       "    }\n",
       "\n",
       "    .dataframe thead th {\n",
       "        text-align: right;\n",
       "    }\n",
       "</style>\n",
       "<table border=\"1\" class=\"dataframe\">\n",
       "  <thead>\n",
       "    <tr style=\"text-align: right;\">\n",
       "      <th></th>\n",
       "      <th>county_name</th>\n",
       "      <th>Year</th>\n",
       "      <th>count</th>\n",
       "      <th>total_burned</th>\n",
       "    </tr>\n",
       "  </thead>\n",
       "  <tbody>\n",
       "    <tr>\n",
       "      <th>0</th>\n",
       "      <td>Alachua County</td>\n",
       "      <td>2015</td>\n",
       "      <td>15930</td>\n",
       "      <td>219060.00</td>\n",
       "    </tr>\n",
       "    <tr>\n",
       "      <th>1</th>\n",
       "      <td>Alameda County</td>\n",
       "      <td>2015</td>\n",
       "      <td>36108</td>\n",
       "      <td>496536.00</td>\n",
       "    </tr>\n",
       "    <tr>\n",
       "      <th>2</th>\n",
       "      <td>Angelina County</td>\n",
       "      <td>2015</td>\n",
       "      <td>20160</td>\n",
       "      <td>2999006.40</td>\n",
       "    </tr>\n",
       "    <tr>\n",
       "      <th>3</th>\n",
       "      <td>Appling County</td>\n",
       "      <td>2015</td>\n",
       "      <td>1062</td>\n",
       "      <td>14604.00</td>\n",
       "    </tr>\n",
       "    <tr>\n",
       "      <th>4</th>\n",
       "      <td>Atascosa County</td>\n",
       "      <td>2015</td>\n",
       "      <td>2460</td>\n",
       "      <td>28805.04</td>\n",
       "    </tr>\n",
       "  </tbody>\n",
       "</table>\n",
       "</div>"
      ],
      "text/plain": [
       "       county_name  Year  count  total_burned\n",
       "0   Alachua County  2015  15930     219060.00\n",
       "1   Alameda County  2015  36108     496536.00\n",
       "2  Angelina County  2015  20160    2999006.40\n",
       "3   Appling County  2015   1062      14604.00\n",
       "4  Atascosa County  2015   2460      28805.04"
      ]
     },
     "execution_count": 13,
     "metadata": {},
     "output_type": "execute_result"
    }
   ],
   "source": [
    "df.head()"
   ]
  },
  {
   "cell_type": "markdown",
   "metadata": {},
   "source": [
    "# Script to create schema"
   ]
  },
  {
   "cell_type": "code",
   "execution_count": 14,
   "metadata": {},
   "outputs": [
    {
     "name": "stdout",
     "output_type": "stream",
     "text": [
      "Database create or already exists\n",
      "Database schema created successfully\n"
     ]
    }
   ],
   "source": [
    "cursor = conn.cursor()\n",
    "\n",
    "try:\n",
    "    cursor.execute('CREATE DATABASE IF NOT EXISTS wildfire_housing')\n",
    "    print('Database create or already exists')\n",
    "\n",
    "except mysql.Error as err:\n",
    "    print(f\"Error creating database\")\n",
    "\n",
    "conn.database = database\n",
    "    \n",
    "with open('schema.sql', 'r') as schema:\n",
    "    sql_script = schema.read()\n",
    "\n",
    "try:\n",
    "\n",
    "    for statement in sql_script.split(\";\\n\"):\n",
    "        statement = statement.strip()\n",
    "        if statement:\n",
    "            cursor.execute(statement)\n",
    "except mysql.Error as err:\n",
    "    print(f\"Error executing statement: {statement}\")\n",
    "    print(f\"MySQL Error: {err}\")\n",
    "\n",
    "conn.commit()\n",
    "cursor.close()\n",
    "conn.close()\n",
    "\n",
    "print('Database schema created successfully')\n"
   ]
  }
 ],
 "metadata": {
  "kernelspec": {
   "display_name": "Python 3",
   "language": "python",
   "name": "python3"
  },
  "language_info": {
   "codemirror_mode": {
    "name": "ipython",
    "version": 3
   },
   "file_extension": ".py",
   "mimetype": "text/x-python",
   "name": "python",
   "nbconvert_exporter": "python",
   "pygments_lexer": "ipython3",
   "version": "3.13.1"
  }
 },
 "nbformat": 4,
 "nbformat_minor": 2
}
