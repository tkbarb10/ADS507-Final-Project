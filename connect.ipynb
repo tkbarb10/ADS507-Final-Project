{
 "cells": [
  {
   "cell_type": "code",
   "execution_count": 6,
   "metadata": {},
   "outputs": [],
   "source": [
    "import mysql.connector as mysql\n",
    "from mysql.connector import Error"
   ]
  },
  {
   "cell_type": "code",
   "execution_count": 9,
   "metadata": {},
   "outputs": [
    {
     "name": "stdout",
     "output_type": "stream",
     "text": [
      "✅ Successfully connected to MySQL database\n"
     ]
    }
   ],
   "source": [
    "# Database credentials (replace with your details)\n",
    "hostname='wildfire-watch1.mysql.database.azure.com'\n",
    "port=3306\n",
    "username='tkirk'\n",
    "password='Wildfire507'\n",
    "ssl_ca = \"/DigiCertGlobalRootCA.crt (1).pem\"  # Required for Azure MySQL SSL connection\n",
    "\n",
    "try:\n",
    "    # Establish connection\n",
    "    conn = mysql.connect(\n",
    "        host=hostname,\n",
    "        user=username,\n",
    "        password=password,\n",
    "        ssl_ca=ssl_ca  # Secure connection\n",
    "    )\n",
    "\n",
    "    if conn.is_connected():\n",
    "        print(\"✅ Successfully connected to MySQL database\")\n",
    "\n",
    "except Error as e:\n",
    "    print(f\"❌ Error: {e}\")\n",
    "\n"
   ]
  }
 ],
 "metadata": {
  "kernelspec": {
   "display_name": "Python 3",
   "language": "python",
   "name": "python3"
  },
  "language_info": {
   "codemirror_mode": {
    "name": "ipython",
    "version": 3
   },
   "file_extension": ".py",
   "mimetype": "text/x-python",
   "name": "python",
   "nbconvert_exporter": "python",
   "pygments_lexer": "ipython3",
   "version": "3.13.1"
  }
 },
 "nbformat": 4,
 "nbformat_minor": 2
}
